{
 "cells": [
  {
   "cell_type": "markdown",
   "id": "61735766-195e-49df-8fba-3e50d4bba5a9",
   "metadata": {},
   "source": [
    "###  1A - Create a function that takes in two numerical arrays of the same length (think about one array as actual values and the other as predicted values) and calculates the RMSE between them."
   ]
  },
  {
   "cell_type": "code",
   "execution_count": 273,
   "id": "5c932015-0372-4b09-863f-d8542a9e467a",
   "metadata": {},
   "outputs": [],
   "source": [
    "# import libraries\n",
    "import numpy as np # library for working with matrices and arrays\n",
    "import pandas as pd # library for working with data frames\n",
    "import matplotlib.pyplot as plt # library for visualizations"
   ]
  },
  {
   "cell_type": "code",
   "execution_count": 274,
   "id": "304bd30b-0914-4a6a-9fe6-1d945dadfdbe",
   "metadata": {},
   "outputs": [],
   "source": [
    "# define a function to calculate the Root Mean Square Error (RMSE)\n",
    "def compute_rmse(actual, predicted):\n",
    "    \"\"\"\n",
    "    calculates the Root Mean Squared Error (RMSE) between actual and predicted values\n",
    "    \"\"\"\n",
    "    # check if both arrays are same length; raise an error if not equal\n",
    "    if len(actual) != len(predicted):\n",
    "        raise ValueError(\"Input arrays must be of the same length.\")\n",
    "\n",
    "    # calculate the squared differences between predicted and actual values\n",
    "    squared_errors = np.square(predicted - actual)\n",
    "\n",
    "    # compute the mean of the squared errors (MSE)\n",
    "    mse = np.mean(squared_errors)\n",
    "\n",
    "    # calculate RMSE by taking the square root of MSE\n",
    "    rmse = np.sqrt(mse)\n",
    "\n",
    "    # return the calculated RMSE value\n",
    "    return rmse"
   ]
  },
  {
   "cell_type": "code",
   "execution_count": 275,
   "id": "0b1cec83-9d14-4a37-95b0-5249c3df60de",
   "metadata": {},
   "outputs": [
    {
     "name": "stdout",
     "output_type": "stream",
     "text": [
      "RMSE: 1.105667219374799\n"
     ]
    }
   ],
   "source": [
    "# test the compute_rmse function with sample data\n",
    "\n",
    "# sample actual values for problem 1A\n",
    "actual = [3, -0.7, 2, 10]\n",
    "\n",
    "# sample predicted values for problem 1A\n",
    "predicted = [2.5, 0.1, 2, 8]\n",
    "\n",
    "# convert lists to numpy arrays\n",
    "actual = np.array(actual)\n",
    "predicted = np.array(predicted)\n",
    "\n",
    "# call the compute_rmse function\n",
    "rmse_result = compute_rmse(actual, predicted)\n",
    "\n",
    "# print the result for problem 1A\n",
    "print(\"RMSE:\", rmse_result)"
   ]
  },
  {
   "cell_type": "markdown",
   "id": "98ae6327-c518-43ba-8dde-6a439fea69fd",
   "metadata": {},
   "source": [
    "### 1B - Apply your RMSE function to the columns “sale_price” and “sale_price_pred” in the file housing_data.csv file and report your result. The sale price has been predicted from the square footage of the house."
   ]
  },
  {
   "cell_type": "code",
   "execution_count": 276,
   "id": "3680ae0d-e532-42d6-94a2-2fbbe3c63b38",
   "metadata": {},
   "outputs": [],
   "source": [
    "# import data from the housing_data.csv file\n",
    "df_housing_data = pd.read_csv('housing_data.csv')\n",
    "\n",
    "# convert input lists from \"sale_price\" and \"sale_price_pred\" columns into numpy arrays\n",
    "actual = np.array(df_housing_data['sale_price'])\n",
    "predicted = np.array(df_housing_data['sale_price_pred'])"
   ]
  },
  {
   "cell_type": "code",
   "execution_count": 277,
   "id": "b9d6d0b6-7517-445f-80ba-5ffae1347032",
   "metadata": {},
   "outputs": [
    {
     "name": "stdout",
     "output_type": "stream",
     "text": [
      "RMSE: 55064.0688338987\n"
     ]
    }
   ],
   "source": [
    "# call the compute_rmse function\n",
    "rmse_result = compute_rmse(actual, predicted)\n",
    "\n",
    "# print the result for problem 1B\n",
    "print(\"RMSE:\", rmse_result)"
   ]
  },
  {
   "cell_type": "markdown",
   "id": "b46ccee9-42c0-4523-9222-4b32c0cc9752",
   "metadata": {},
   "source": [
    "### 2A - Repeat problem (1a) above with MAE. "
   ]
  },
  {
   "cell_type": "code",
   "execution_count": 278,
   "id": "c8d1f6ec-70a8-47de-b807-778dcfe96ace",
   "metadata": {},
   "outputs": [],
   "source": [
    "# define a function to calculate the Mean Absolute Error (MAE)\n",
    "def compute_mae(actual, predicted):\n",
    "    \"\"\"\n",
    "    calculates the Mean Absolute Error (MAE) between actual and predicted values\n",
    "    \"\"\"\n",
    "    # convert lists to numpy arrays\n",
    "    actual = np.array(actual)\n",
    "    predicted = np.array(predicted)\n",
    "\n",
    "    # check if both arrays are same length; raise an error if not equal\n",
    "    if len(actual) != len(predicted):\n",
    "        raise ValueError(\"Input arrays must be of the same length.\")\n",
    "\n",
    "    # calculate the absolute differences between actual and predicted values\n",
    "    absolute_errors = np.abs(predicted - actual)\n",
    "\n",
    "    # calculate the mean of the absolute errors\n",
    "    mae = np.mean(absolute_errors)\n",
    "\n",
    "    # return the calculated MAE value\n",
    "    return mae"
   ]
  },
  {
   "cell_type": "code",
   "execution_count": 279,
   "id": "91b50107-de74-4ec4-82b8-d560dc03bc95",
   "metadata": {},
   "outputs": [
    {
     "name": "stdout",
     "output_type": "stream",
     "text": [
      "MAE: 20.8\n"
     ]
    }
   ],
   "source": [
    "# test the compute_mae function with sample data for problem 2A\n",
    "\n",
    "# sample actual values for problem 2A\n",
    "actual = [10, 12, 15, 13, 110]\n",
    "\n",
    "# sample predicted values for problem 2A\n",
    "predicted = [9, 11, 16, 14, 10]\n",
    "\n",
    "# call the compute_rmse function\n",
    "mae_result = compute_mae(actual, predicted)\n",
    "\n",
    "# print the result for problem 2A\n",
    "print(\"MAE:\", mae_result)"
   ]
  },
  {
   "cell_type": "markdown",
   "id": "df40dfc1-6943-4381-a5fc-f24991638836",
   "metadata": {},
   "source": [
    "### 2B - Repeat problem (1b) above with MAE. "
   ]
  },
  {
   "cell_type": "code",
   "execution_count": 280,
   "id": "90fcf8fb-40f7-40f0-b736-fe5ad52cbcfe",
   "metadata": {},
   "outputs": [],
   "source": [
    "# import data from the housing_data.csv file\n",
    "df_housing_data = pd.read_csv('housing_data.csv')\n",
    "\n",
    "# convert input lists from \"sale_price\" and \"sale_price_pred\" columns into numpy arrays\n",
    "actual = np.array(df_housing_data['sale_price'])\n",
    "predicted = np.array(df_housing_data['sale_price_pred'])"
   ]
  },
  {
   "cell_type": "code",
   "execution_count": 281,
   "id": "842a827e-af9d-4979-9196-16676e8b6f22",
   "metadata": {},
   "outputs": [
    {
     "name": "stdout",
     "output_type": "stream",
     "text": [
      "MAE: 37438.68916270548\n"
     ]
    }
   ],
   "source": [
    "# call the compute_mae function\n",
    "mae_result = compute_mae(actual, predicted)\n",
    "\n",
    "# print the result for problem 2B\n",
    "print(\"MAE:\", mae_result)"
   ]
  },
  {
   "cell_type": "markdown",
   "id": "5d4f05c2-e9c2-4380-b469-822a5453a43c",
   "metadata": {},
   "source": [
    "### 3A - Build a function that takes in two binary arrays of the same length, where one is actual values and the other predicted values, that calculates the prediction accuracy. "
   ]
  },
  {
   "cell_type": "code",
   "execution_count": 282,
   "id": "c1962c9f-2b2e-469b-9dbf-b550e613c8f1",
   "metadata": {},
   "outputs": [],
   "source": [
    "# define a function to calculate the prediction accuracy\n",
    "def calculate_accuracy(actual, predicted):\n",
    "    \"\"\"\n",
    "    calculates the accuracy of binary predictions\n",
    "    \"\"\"\n",
    "    # convert to numpy arrays\n",
    "    actual = np.array(actual)\n",
    "    predicted = np.array(predicted)\n",
    "    \n",
    "    # check if both arrays are same length; raise an error if not equal\n",
    "    if len(actual) != len(predicted):\n",
    "        raise ValueError(\"Input arrays must be of the same length.\")\n",
    "\n",
    "    # count correct predictions\n",
    "    correct = np.sum(actual == predicted)\n",
    "\n",
    "    # calculate accuracy\n",
    "    accuracy = correct / len(actual)\n",
    "\n",
    "    # return calculated accuracy value\n",
    "    return accuracy"
   ]
  },
  {
   "cell_type": "code",
   "execution_count": 286,
   "id": "16933309-c273-461d-a023-2a430c259588",
   "metadata": {},
   "outputs": [
    {
     "name": "stdout",
     "output_type": "stream",
     "text": [
      "Prediction Accuracy: 85.71%\n"
     ]
    }
   ],
   "source": [
    "# test the calcluate_accuracy function with sample data\n",
    "\n",
    "# sample actual values for problem 3A\n",
    "actual = np.array([1, 0, 1, 1, 0, 1, 1])\n",
    "\n",
    "# sample predicted values for problem 3A\n",
    "predicted = np.array([1, 0, 1, 1, 0, 1, 0])\n",
    "\n",
    "# call the calculate_accuracy function\n",
    "accuracy = calculate_accuracy(actual, predicted)\n",
    "\n",
    "# print the result for problem 3A (rounded to 2 decimal places)\n",
    "print(f\"Prediction Accuracy: {accuracy:.2%}\")"
   ]
  },
  {
   "cell_type": "markdown",
   "id": "992da534-2813-43ff-9fe1-86c0ab6e0001",
   "metadata": {},
   "source": [
    "### 3B - Apply your accuracy function to the columns “actual” and “predicted” in the mushroom_data.csv file and report your result. The columns in this data set indicate the mushroom is poisonous with a “p” and if it is edible with an “e”"
   ]
  },
  {
   "cell_type": "code",
   "execution_count": 287,
   "id": "f46b24af-f3d2-4bcc-b0ac-f9b35bad98f4",
   "metadata": {},
   "outputs": [],
   "source": [
    "# import data from the mushroom_data.csv file\n",
    "df_mushroom_data = pd.read_csv('mushroom_data.csv')"
   ]
  },
  {
   "cell_type": "code",
   "execution_count": 288,
   "id": "d0c16d72-8b02-44ad-b812-9f2a7d55ac8e",
   "metadata": {},
   "outputs": [],
   "source": [
    "# convert input lists from \"actual\" and \"predicted\" columns into numpy arrays\n",
    "actual = np.array(df_mushroom_data['actual'])\n",
    "predicted = np.array(df_mushroom_data['predicted'])"
   ]
  },
  {
   "cell_type": "code",
   "execution_count": 289,
   "id": "f113f2ff-f206-46ba-9048-0241d068c2cc",
   "metadata": {},
   "outputs": [
    {
     "name": "stdout",
     "output_type": "stream",
     "text": [
      "Prediction Accuracy: 84.71%\n"
     ]
    }
   ],
   "source": [
    "# call the calculate_accuracy function\n",
    "accuracy = calculate_accuracy(actual, predicted)\n",
    "\n",
    "# print the result for problem 3B (rounded to 2 decimal places)\n",
    "print(f\"Prediction Accuracy: {accuracy:.2%}\")"
   ]
  },
  {
   "cell_type": "markdown",
   "id": "6db6cc21-efae-468b-8c38-4de78c6c4791",
   "metadata": {},
   "source": [
    "### 4A - Use the Python package matplotlib to plot the function f(p) = 0.005 * p**6 − 0.27 * p**5 + 5.998 * p**4 − 69.919 * p**3 + 449.17 * p**2 − 1499.7 * p + 2028, where p is a parameter of the model."
   ]
  },
  {
   "cell_type": "code",
   "execution_count": 290,
   "id": "d8951ad7-b6fe-4564-9583-6fe847b85d99",
   "metadata": {},
   "outputs": [],
   "source": [
    "# define the error function\n",
    "def f(p):\n",
    "    return (\n",
    "        0.005 * p**6 - 0.27 * p**5 + 5.998 * p**4 - 69.919 * p**3 + 449.17 * p**2 - 1499.7 * p + 2028\n",
    "    )"
   ]
  },
  {
   "cell_type": "code",
   "execution_count": 291,
   "id": "a3f3beba-89d0-4ba5-8806-8d62f72abcec",
   "metadata": {},
   "outputs": [],
   "source": [
    "# get a list (array) of p values\n",
    "p_values = np.arange(0, 10 + 0.02, 0.02)\n",
    "\n",
    "# call the error function\n",
    "f_values = f(p_values)"
   ]
  },
  {
   "cell_type": "code",
   "execution_count": 292,
   "id": "f8425a9b-6a68-422f-996e-bf04ba0b9943",
   "metadata": {},
   "outputs": [
    {
     "data": {
      "image/png": "[encoded data removed]",
      "text/plain": [
       "<Figure size 640x480 with 1 Axes>"
      ]
     },
     "metadata": {},
     "output_type": "display_data"
    }
   ],
   "source": [
    "# plot the error function using matplotlib\n",
    "\n",
    "plt.plot(p_values, f_values, label='f(p)', color='blue') # plot the error function f(p)\n",
    "plt.title('Error Function f(p)') # create the plot title\n",
    "plt.xlabel('Parameter p') # create the x-axis label\n",
    "plt.ylabel('Error f(p)') # create the y-axis label\n",
    "plt.legend() # create the legend\n",
    "plt.show() # display the graph"
   ]
  },
  {
   "cell_type": "markdown",
   "id": "e23b21d2-6bd7-4762-9e23-0216110caa62",
   "metadata": {},
   "source": [
    "### 4B - Use your graph to estimate the value of p that minimizes the error. Report your result."
   ]
  },
  {
   "cell_type": "code",
   "execution_count": 293,
   "id": "ea68e2af-0fef-413d-b2ca-79062a4fc2d7",
   "metadata": {},
   "outputs": [
    {
     "name": "stdout",
     "output_type": "stream",
     "text": [
      "Estimated value of p that minimizes the error: 5.1800\n"
     ]
    }
   ],
   "source": [
    "# find the minimum error value\n",
    "f_minimum = np.min(f_values)\n",
    "\n",
    "# return the index of the minimum value\n",
    "min_index = np.argmin(f_values)\n",
    "\n",
    "# corresponding p value\n",
    "p_minimum = p_values[min_index]\n",
    "\n",
    "# print the estimated value of p (rounded to 4 decimal places)\n",
    "print(f\"Estimated value of p that minimizes the error: {p_minimum:.4f}\")"
   ]
  },
  {
   "cell_type": "markdown",
   "id": "d87c6b8b-2da1-4eff-82ea-c5784f481021",
   "metadata": {},
   "source": [
    "### 4C - Use your graph to estimate the minimum error. Report your result."
   ]
  },
  {
   "cell_type": "code",
   "execution_count": 294,
   "id": "52a5b5dc-9110-4167-8681-cf4409de4f5a",
   "metadata": {},
   "outputs": [
    {
     "name": "stdout",
     "output_type": "stream",
     "text": [
      "Estimated minimum error: 1.7522\n"
     ]
    }
   ],
   "source": [
    "# print the estimate minimum error\n",
    "print(f\"Estimated minimum error: {f_minimum:.4f}\")"
   ]
  }
 ],
 "metadata": {
  "kernelspec": {
   "display_name": "Python [conda env:base] *",
   "language": "python",
   "name": "conda-base-py"
  },
  "language_info": {
   "codemirror_mode": {
    "name": "ipython",
    "version": 3
   },
   "file_extension": ".py",
   "mimetype": "text/x-python",
   "name": "python",
   "nbconvert_exporter": "python",
   "pygments_lexer": "ipython3",
   "version": "3.13.5"
  }
 },
 "nbformat": 4,
 "nbformat_minor": 5
}
